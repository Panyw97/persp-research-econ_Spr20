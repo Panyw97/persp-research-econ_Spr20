{
 "cells": [
  {
   "cell_type": "markdown",
   "metadata": {},
   "source": [
    "# Problem Set 3"
   ]
  },
  {
   "cell_type": "markdown",
   "metadata": {},
   "source": [
    "## Yanwei Pan\n",
    "panyw@uchicago.edu"
   ]
  },
  {
   "cell_type": "markdown",
   "metadata": {},
   "source": [
    "### Problem 1"
   ]
  },
  {
   "cell_type": "code",
   "execution_count": 1,
   "metadata": {},
   "outputs": [],
   "source": [
    "import numpy as np\n",
    "import scipy.optimize as opt\n",
    "import scipy.interpolate as intpl\n",
    "import matplotlib.pyplot as plt"
   ]
  },
  {
   "cell_type": "code",
   "execution_count": 4,
   "metadata": {},
   "outputs": [],
   "source": [
    "#a\n",
    "\n",
    "# Set up the parameters\n",
    "beta = 0.9\n",
    "gamma = 2.2\n",
    "W_min = 0.1\n",
    "W_max = 10.0\n",
    "W_size = 30\n",
    "W_vec = np.linspace(W_min, W_max, W_size)\n",
    "V_t = np.log(W_vec)\n",
    "eps_vec = np.array([-1.4, -0.55, 0, 0.55, 1.4])\n",
    "eps_prob = np.array([0.1, 0.2, 0.4, 0.2, 0.1])\n",
    "eps_size = eps_vec.shape[0]\n",
    "\n",
    "def util_CRRA(W, W_pr, gamma):\n",
    "    # Define CRRA utility function\n",
    "    c = W - W_pr\n",
    "    util = (c ** (1 - gamma) - 1) / (1 - gamma)\n",
    "    \n",
    "    return util\n",
    "\n",
    "def neg_V_iid(W_pr, *args):\n",
    "    W, eps, util, Exp_V_t_interp, gamma, beta = args\n",
    "    Vtp1 = np.exp(eps) * util(W, W_pr, gamma) + beta * Exp_V_t_interp(W_pr)\n",
    "    neg_Vtp1 = -Vtp1\n",
    "    \n",
    "    return neg_Vtp1"
   ]
  },
  {
   "cell_type": "code",
   "execution_count": 6,
   "metadata": {},
   "outputs": [
    {
     "name": "stdout",
     "output_type": "stream",
     "text": [
      "VF_iter= 1 , VF_dist= 3494.416552492849\n",
      "VF_iter= 2 , VF_dist= 3288.9775602179398\n",
      "VF_iter= 3 , VF_dist= 4368.033199294504\n",
      "VF_iter= 4 , VF_dist= 5171.123172733101\n",
      "VF_iter= 5 , VF_dist= 5690.816865389136\n",
      "VF_iter= 6 , VF_dist= 5962.334129328155\n",
      "VF_iter= 7 , VF_dist= 6029.410863441401\n",
      "VF_iter= 8 , VF_dist= 5938.006359170556\n",
      "VF_iter= 9 , VF_dist= 5728.733568262043\n",
      "VF_iter= 10 , VF_dist= 5436.089591828773\n",
      "VF_iter= 11 , VF_dist= 5088.450567375278\n",
      "VF_iter= 12 , VF_dist= 4708.595711207952\n",
      "VF_iter= 13 , VF_dist= 4314.425870978352\n",
      "VF_iter= 14 , VF_dist= 3919.6529865086823\n",
      "VF_iter= 15 , VF_dist= 3534.453890340005\n",
      "VF_iter= 16 , VF_dist= 3166.0717799094914\n",
      "VF_iter= 17 , VF_dist= 2819.3724059115366\n",
      "VF_iter= 18 , VF_dist= 2497.331372214219\n",
      "VF_iter= 19 , VF_dist= 2201.4557625475145\n",
      "VF_iter= 20 , VF_dist= 1932.1399178953566\n",
      "VF_iter= 21 , VF_dist= 1688.9596638065682\n",
      "VF_iter= 22 , VF_dist= 1470.9108719157662\n",
      "VF_iter= 23 , VF_dist= 1276.5993702275612\n",
      "VF_iter= 24 , VF_dist= 1104.3893159739218\n",
      "VF_iter= 25 , VF_dist= 952.5168794056659\n",
      "VF_iter= 26 , VF_dist= 819.1754636558386\n",
      "VF_iter= 27 , VF_dist= 702.5782302191728\n",
      "VF_iter= 28 , VF_dist= 601.0007639998626\n",
      "VF_iter= 29 , VF_dist= 512.8120804049411\n",
      "VF_iter= 30 , VF_dist= 436.49195996903325\n",
      "VF_iter= 31 , VF_dist= 370.64094039451504\n",
      "VF_iter= 32 , VF_dist= 313.9837850772325\n",
      "VF_iter= 33 , VF_dist= 265.36837905541597\n",
      "VF_iter= 34 , VF_dist= 223.76142626173007\n",
      "VF_iter= 35 , VF_dist= 188.24202140834456\n",
      "VF_iter= 36 , VF_dist= 157.99391929400753\n",
      "VF_iter= 37 , VF_dist= 132.29712064193444\n",
      "VF_iter= 38 , VF_dist= 110.51922993676429\n",
      "VF_iter= 39 , VF_dist= 92.10691083376445\n",
      "VF_iter= 40 , VF_dist= 76.57766324529271\n",
      "VF_iter= 41 , VF_dist= 63.512068135772914\n",
      "VF_iter= 42 , VF_dist= 52.54658698138166\n",
      "VF_iter= 43 , VF_dist= 43.3669590697024\n",
      "VF_iter= 44 , VF_dist= 35.702208079202634\n",
      "VF_iter= 45 , VF_dist= 29.31924705157791\n",
      "VF_iter= 46 , VF_dist= 24.018055757038024\n",
      "VF_iter= 47 , VF_dist= 19.62739479941466\n",
      "VF_iter= 48 , VF_dist= 16.001015214233433\n",
      "VF_iter= 49 , VF_dist= 13.014319735746323\n",
      "VF_iter= 50 , VF_dist= 10.56143149616109\n",
      "VF_iter= 51 , VF_dist= 8.552627061405703\n",
      "VF_iter= 52 , VF_dist= 6.912092964935729\n",
      "VF_iter= 53 , VF_dist= 5.575967859534671\n",
      "VF_iter= 54 , VF_dist= 4.490635846895642\n",
      "VF_iter= 55 , VF_dist= 3.611240167867626\n",
      "VF_iter= 56 , VF_dist= 2.9003900724273053\n",
      "VF_iter= 57 , VF_dist= 2.3270371537171513\n",
      "VF_iter= 58 , VF_dist= 1.8655005992880302\n",
      "VF_iter= 59 , VF_dist= 1.4946235941207497\n",
      "VF_iter= 60 , VF_dist= 1.1970454632792984\n",
      "VF_iter= 61 , VF_dist= 0.9585760728643425\n",
      "VF_iter= 62 , VF_dist= 0.7676605629606206\n",
      "VF_iter= 63 , VF_dist= 0.6149237330662378\n",
      "VF_iter= 64 , VF_dist= 0.4927844192420875\n",
      "VF_iter= 65 , VF_dist= 0.3951310655441188\n",
      "VF_iter= 66 , VF_dist= 0.31705046239942836\n",
      "VF_iter= 67 , VF_dist= 0.25460234391745856\n",
      "VF_iter= 68 , VF_dist= 0.20463323107554093\n",
      "VF_iter= 69 , VF_dist= 0.16462358821635545\n",
      "VF_iter= 70 , VF_dist= 0.1325630262736468\n",
      "VF_iter= 71 , VF_dist= 0.10684893010182255\n",
      "VF_iter= 72 , VF_dist= 0.08620449950960188\n",
      "VF_iter= 73 , VF_dist= 0.06961276460117397\n",
      "VF_iter= 74 , VF_dist= 0.05626365791980316\n",
      "VF_iter= 75 , VF_dist= 0.045511694260017735\n",
      "VF_iter= 76 , VF_dist= 0.03684222157750761\n",
      "VF_iter= 77 , VF_dist= 0.029844564402374686\n",
      "VF_iter= 78 , VF_dist= 0.024190686856972787\n",
      "VF_iter= 79 , VF_dist= 0.019618260386259922\n",
      "VF_iter= 80 , VF_dist= 0.015917236304987616\n",
      "VF_iter= 81 , VF_dist= 0.012919200660435864\n",
      "VF_iter= 82 , VF_dist= 0.010488934004746101\n",
      "VF_iter= 83 , VF_dist= 0.008517716355044384\n",
      "VF_iter= 84 , VF_dist= 0.00691801246777643\n",
      "VF_iter= 85 , VF_dist= 0.005619248530286449\n",
      "VF_iter= 86 , VF_dist= 0.004564451958587326\n",
      "VF_iter= 87 , VF_dist= 0.0037075740906608633\n",
      "VF_iter= 88 , VF_dist= 0.0030113536420462708\n",
      "VF_iter= 89 , VF_dist= 0.0024456088523578355\n",
      "VF_iter= 90 , VF_dist= 0.001985869936846679\n",
      "VF_iter= 91 , VF_dist= 0.0016122821021656536\n",
      "VF_iter= 92 , VF_dist= 0.0013087240486581234\n",
      "VF_iter= 93 , VF_dist= 0.0010620984074924253\n",
      "VF_iter= 94 , VF_dist= 0.0008617596247306495\n",
      "VF_iter= 95 , VF_dist= 0.0006990519398148664\n",
      "VF_iter= 96 , VF_dist= 0.0005669357206090445\n",
      "VF_iter= 97 , VF_dist= 0.0004596848484600202\n",
      "VF_iter= 98 , VF_dist= 0.0003726413433400984\n",
      "VF_iter= 99 , VF_dist= 0.00030201618674586747\n",
      "VF_iter= 100 , VF_dist= 0.00024472749354110894\n",
      "VF_iter= 101 , VF_dist= 0.00019826892637177278\n",
      "VF_iter= 102 , VF_dist= 0.00016060263224256825\n",
      "VF_iter= 103 , VF_dist= 0.0001300720891483579\n",
      "VF_iter= 104 , VF_dist= 0.00010533113515101626\n",
      "VF_iter= 105 , VF_dist= 8.528616230351807e-05\n",
      "VF_iter= 106 , VF_dist= 6.904902893045537e-05\n",
      "VF_iter= 107 , VF_dist= 5.58987032119717e-05\n",
      "VF_iter= 108 , VF_dist= 4.525002255832318e-05\n",
      "VF_iter= 109 , VF_dist= 3.662825367946391e-05\n",
      "VF_iter= 110 , VF_dist= 2.9648381684870055e-05\n",
      "VF_iter= 111 , VF_dist= 2.39982549749399e-05\n",
      "VF_iter= 112 , VF_dist= 1.9424873004279235e-05\n",
      "VF_iter= 113 , VF_dist= 1.5723235673077267e-05\n",
      "VF_iter= 114 , VF_dist= 1.272727964557564e-05\n",
      "VF_iter= 115 , VF_dist= 1.0302514478394718e-05\n",
      "VF_iter= 116 , VF_dist= 8.34004242997388e-06\n",
      "VF_iter= 117 , VF_dist= 6.751704204548888e-06\n",
      "VF_iter= 118 , VF_dist= 5.466140377418238e-06\n",
      "VF_iter= 119 , VF_dist= 4.425597146845334e-06\n",
      "VF_iter= 120 , VF_dist= 3.5833367766181355e-06\n",
      "VF_iter= 121 , VF_dist= 2.901539092470968e-06\n",
      "VF_iter= 122 , VF_dist= 2.3496014077785377e-06\n",
      "VF_iter= 123 , VF_dist= 1.9027617856574288e-06\n",
      "VF_iter= 124 , VF_dist= 1.5409843211358737e-06\n",
      "VF_iter= 125 , VF_dist= 1.2480569000018439e-06\n",
      "VF_iter= 126 , VF_dist= 1.0108610126543219e-06\n",
      "VF_iter= 127 , VF_dist= 8.187809298941962e-07\n",
      "VF_iter= 128 , VF_dist= 6.632257181555538e-07\n",
      "VF_iter= 129 , VF_dist= 5.372425577246577e-07\n",
      "VF_iter= 130 , VF_dist= 4.352039711978974e-07\n",
      "VF_iter= 131 , VF_dist= 3.52554804532906e-07\n",
      "VF_iter= 132 , VF_dist= 2.856075891862148e-07\n",
      "VF_iter= 133 , VF_dist= 2.3137700024210983e-07\n",
      "VF_iter= 134 , VF_dist= 1.8744595280674418e-07\n",
      "VF_iter= 135 , VF_dist= 1.518572697400391e-07\n",
      "VF_iter= 136 , VF_dist= 1.2302604725753922e-07\n",
      "VF_iter= 137 , VF_dist= 9.966874322757488e-08\n",
      "VF_iter= 138 , VF_dist= 8.074580018350248e-08\n",
      "VF_iter= 139 , VF_dist= 6.541520832632279e-08\n",
      "VF_iter= 140 , VF_dist= 5.299492534475509e-08\n",
      "VF_iter= 141 , VF_dist= 4.293245385716458e-08\n",
      "VF_iter= 142 , VF_dist= 3.4780217313545753e-08\n",
      "VF_iter= 143 , VF_dist= 2.817561810545218e-08\n",
      "VF_iter= 144 , VF_dist= 2.282489479627886e-08\n",
      "VF_iter= 145 , VF_dist= 1.8490046714220514e-08\n",
      "VF_iter= 146 , VF_dist= 1.4978247147702045e-08\n",
      "VF_iter= 147 , VF_dist= 1.2133266004667127e-08\n",
      "VF_iter= 148 , VF_dist= 9.828523946527788e-09\n"
     ]
    }
   ],
   "source": [
    "V_init = np.zeros((W_size, eps_size))\n",
    "V_new = V_init.copy()\n",
    "\n",
    "VF_iter = 0\n",
    "VF_dist = 10\n",
    "VF_maxiter = 200\n",
    "VF_mindist = 1e-8\n",
    "\n",
    "while (VF_iter < VF_maxiter) and (VF_dist > VF_mindist):\n",
    "    VF_iter += 1\n",
    "    V_init = V_new.copy()\n",
    "    V_new = np.zeros((W_size, eps_size))\n",
    "    psi_mat = np.zeros((W_size, eps_size))\n",
    "    \n",
    "    Exp_V = V_init @ eps_prob.reshape((eps_size,1))\n",
    "    \n",
    "    Exp_V_interp = intpl.interp1d(W_vec, Exp_V.flatten(), kind='cubic',\n",
    "                                   fill_value='extrapolate')\n",
    "\n",
    "    for eps_ind in range(eps_size):\n",
    "        for W_ind in range(W_size):\n",
    "            W = W_vec[W_ind]\n",
    "            eps = eps_vec[eps_ind]\n",
    "            V_args = (W, eps, util_CRRA, Exp_V_interp, gamma, beta)\n",
    "            results1 = opt.minimize_scalar(neg_V_iid, bounds=(1e-10, W - 1e-10),\n",
    "                                              args=V_args, method='bounded')\n",
    "            V_new[W_ind, eps_ind] = -results1.fun\n",
    "            psi_mat[W_ind, eps_ind] = results1.x\n",
    "\n",
    "    VF_dist = ((V_init - V_new) ** 2).sum()\n",
    "    print('VF_iter=', VF_iter, ', VF_dist=', VF_dist)"
   ]
  },
  {
   "cell_type": "code",
   "execution_count": 7,
   "metadata": {},
   "outputs": [
    {
     "data": {
      "text/plain": [
       "Text(0.5, 1.0, 'Equilibrium value function')"
      ]
     },
     "execution_count": 7,
     "metadata": {},
     "output_type": "execute_result"
    },
    {
     "data": {
      "image/png": "[encoded data removed]",
      "text/plain": [
       "<Figure size 432x288 with 1 Axes>"
      ]
     },
     "metadata": {
      "needs_background": "light"
     },
     "output_type": "display_data"
    }
   ],
   "source": [
    "#b\n",
    "\n",
    "#plot the equilibrium value function\n",
    "for i in range(5):\n",
    "    plt.plot(W_vec, V_new[:,i], label='$\\epsilon$_{}'.format(i+1))\n",
    "plt.xlabel('Cake size')\n",
    "plt.ylabel('Value function')\n",
    "plt.legend()\n",
    "plt.title('Equilibrium value function')"
   ]
  },
  {
   "cell_type": "code",
   "execution_count": 8,
   "metadata": {},
   "outputs": [
    {
     "data": {
      "text/plain": [
       "Text(0.5, 1.0, 'Equilibrium policy function')"
      ]
     },
     "execution_count": 8,
     "metadata": {},
     "output_type": "execute_result"
    },
    {
     "data": {
      "image/png": "[encoded data removed]",
      "text/plain": [
       "<Figure size 432x288 with 1 Axes>"
      ]
     },
     "metadata": {
      "needs_background": "light"
     },
     "output_type": "display_data"
    }
   ],
   "source": [
    "#c\n",
    "\n",
    "#plot the equilibrium policy function \n",
    "for i in range(5):\n",
    "    plt.plot(W_vec, psi_mat[:,i], label='$\\epsilon$_{}'.format(i+1))\n",
    "plt.xlabel('Cake size')\n",
    "plt.ylabel('Policy function')\n",
    "plt.legend()\n",
    "plt.title('Equilibrium policy function')"
   ]
  },
  {
   "cell_type": "markdown",
   "metadata": {},
   "source": [
    "### Problem 2"
   ]
  },
  {
   "cell_type": "code",
   "execution_count": 9,
   "metadata": {},
   "outputs": [],
   "source": [
    "#a\n",
    "\n",
    "trans_mat = np.array([[0.40, 0.28, 0.18, 0.10, 0.04],\n",
    "                     [0.20, 0.40, 0.20, 0.13, 0.17],\n",
    "                     [0.10, 0.20, 0.40, 0.20, 0.20],\n",
    "                     [0.07, 0.13, 0.20, 0.40, 0.20],\n",
    "                     [0.04, 0.10, 0.18, 0.28, 0.4]])"
   ]
  },
  {
   "cell_type": "code",
   "execution_count": 10,
   "metadata": {},
   "outputs": [
    {
     "name": "stdout",
     "output_type": "stream",
     "text": [
      "VF_iter= 1 , VF_dist= 3494.416552492849\n",
      "VF_iter= 2 , VF_dist= 5608.663059236116\n",
      "VF_iter= 3 , VF_dist= 7653.926960666161\n",
      "VF_iter= 4 , VF_dist= 9620.261457778537\n",
      "VF_iter= 5 , VF_dist= 11315.959579696404\n",
      "VF_iter= 6 , VF_dist= 12716.707171693883\n",
      "VF_iter= 7 , VF_dist= 13834.318871457992\n",
      "VF_iter= 8 , VF_dist= 14685.961892700821\n",
      "VF_iter= 9 , VF_dist= 15293.302835129009\n",
      "VF_iter= 10 , VF_dist= 15680.312511143615\n",
      "VF_iter= 11 , VF_dist= 15871.76017490482\n",
      "VF_iter= 12 , VF_dist= 15892.304062795705\n",
      "VF_iter= 13 , VF_dist= 15765.808587292924\n",
      "VF_iter= 14 , VF_dist= 15514.854112942954\n",
      "VF_iter= 15 , VF_dist= 15160.421028860375\n",
      "VF_iter= 16 , VF_dist= 14721.710786847618\n",
      "VF_iter= 17 , VF_dist= 14216.070263679598\n",
      "VF_iter= 18 , VF_dist= 13658.991232270786\n",
      "VF_iter= 19 , VF_dist= 13064.161397071915\n",
      "VF_iter= 20 , VF_dist= 12443.550013327907\n",
      "VF_iter= 21 , VF_dist= 11807.515721163027\n",
      "VF_iter= 22 , VF_dist= 11164.92711835134\n",
      "VF_iter= 23 , VF_dist= 10523.289383017907\n",
      "VF_iter= 24 , VF_dist= 9888.87214473322\n",
      "VF_iter= 25 , VF_dist= 9266.835077293441\n",
      "VF_iter= 26 , VF_dist= 8661.348772606603\n",
      "VF_iter= 27 , VF_dist= 8075.709299377785\n",
      "VF_iter= 28 , VF_dist= 7512.445452521184\n",
      "VF_iter= 29 , VF_dist= 6973.418114264727\n",
      "VF_iter= 30 , VF_dist= 6459.9115145123915\n",
      "VF_iter= 31 , VF_dist= 5972.716386066304\n",
      "VF_iter= 32 , VF_dist= 5512.205213058254\n",
      "VF_iter= 33 , VF_dist= 5078.399866090154\n",
      "VF_iter= 34 , VF_dist= 4671.032004110101\n",
      "VF_iter= 35 , VF_dist= 4289.596658515703\n",
      "VF_iter= 36 , VF_dist= 3933.399467701864\n",
      "VF_iter= 37 , VF_dist= 3601.598020960532\n",
      "VF_iter= 38 , VF_dist= 3293.2377851126685\n",
      "VF_iter= 39 , VF_dist= 3007.2830767193705\n",
      "VF_iter= 40 , VF_dist= 2742.6435353621455\n",
      "VF_iter= 41 , VF_dist= 2498.1965336809103\n",
      "VF_iter= 42 , VF_dist= 2272.8059449310895\n",
      "VF_iter= 43 , VF_dist= 2065.3376654479403\n",
      "VF_iter= 44 , VF_dist= 1874.6722677661112\n",
      "VF_iter= 45 , VF_dist= 1699.7151343957426\n",
      "VF_iter= 46 , VF_dist= 1539.4043972323943\n",
      "VF_iter= 47 , VF_dist= 1392.7169819783778\n",
      "VF_iter= 48 , VF_dist= 1258.6730295683283\n",
      "VF_iter= 49 , VF_dist= 1136.3389415552701\n",
      "VF_iter= 50 , VF_dist= 1024.829270498632\n",
      "VF_iter= 51 , VF_dist= 923.3076520216549\n",
      "VF_iter= 52 , VF_dist= 830.9869519444399\n",
      "VF_iter= 53 , VF_dist= 747.1287802518109\n",
      "VF_iter= 54 , VF_dist= 671.0425030967231\n",
      "VF_iter= 55 , VF_dist= 602.0838657252604\n",
      "VF_iter= 56 , VF_dist= 539.6533225776304\n",
      "VF_iter= 57 , VF_dist= 483.1941552241435\n",
      "VF_iter= 58 , VF_dist= 432.1904461644128\n",
      "VF_iter= 59 , VF_dist= 386.1649641451346\n",
      "VF_iter= 60 , VF_dist= 344.67700686737834\n",
      "VF_iter= 61 , VF_dist= 307.32023788171966\n",
      "VF_iter= 62 , VF_dist= 273.7205470344559\n",
      "VF_iter= 63 , VF_dist= 243.53395735491114\n",
      "VF_iter= 64 , VF_dist= 216.44459591028865\n",
      "VF_iter= 65 , VF_dist= 192.16274157749052\n",
      "VF_iter= 66 , VF_dist= 170.42295897369272\n",
      "VF_iter= 67 , VF_dist= 150.98232469592824\n",
      "VF_iter= 68 , VF_dist= 133.6187494064517\n",
      "VF_iter= 69 , VF_dist= 118.12939739206135\n",
      "VF_iter= 70 , VF_dist= 104.32920336956823\n",
      "VF_iter= 71 , VF_dist= 92.04948521750465\n",
      "VF_iter= 72 , VF_dist= 81.13665004377395\n",
      "VF_iter= 73 , VF_dist= 71.45099034550495\n",
      "VF_iter= 74 , VF_dist= 62.86556632216423\n",
      "VF_iter= 75 , VF_dist= 55.265169959268185\n",
      "VF_iter= 76 , VF_dist= 48.54536620486385\n",
      "VF_iter= 77 , VF_dist= 42.611606347804965\n",
      "VF_iter= 78 , VF_dist= 37.37840864610648\n",
      "VF_iter= 79 , VF_dist= 32.768601272204045\n",
      "VF_iter= 80 , VF_dist= 28.712622749502003\n",
      "VF_iter= 81 , VF_dist= 25.147875262436212\n",
      "VF_iter= 82 , VF_dist= 22.01812647890675\n",
      "VF_iter= 83 , VF_dist= 19.27295584930817\n",
      "VF_iter= 84 , VF_dist= 16.867241709651065\n",
      "VF_iter= 85 , VF_dist= 14.760685903722958\n",
      "VF_iter= 86 , VF_dist= 12.917373031117464\n",
      "VF_iter= 87 , VF_dist= 11.305361807396777\n",
      "VF_iter= 88 , VF_dist= 9.896306374392676\n",
      "VF_iter= 89 , VF_dist= 8.665105709047479\n",
      "VF_iter= 90 , VF_dist= 7.58957953526637\n",
      "VF_iter= 91 , VF_dist= 6.6501693506797075\n",
      "VF_iter= 92 , VF_dist= 5.829663325292458\n",
      "VF_iter= 93 , VF_dist= 5.1129439294816335\n",
      "VF_iter= 94 , VF_dist= 4.486757199947888\n",
      "VF_iter= 95 , VF_dist= 3.939502571323037\n",
      "VF_iter= 96 , VF_dist= 3.461042196994039\n",
      "VF_iter= 97 , VF_dist= 3.0425286575822215\n",
      "VF_iter= 98 , VF_dist= 2.6762499367332944\n",
      "VF_iter= 99 , VF_dist= 2.3554905135576782\n",
      "VF_iter= 100 , VF_dist= 2.074407408698635\n",
      "VF_iter= 101 , VF_dist= 1.8279200174123829\n",
      "VF_iter= 102 , VF_dist= 1.6116125713642835\n",
      "VF_iter= 103 , VF_dist= 1.4216480955657447\n",
      "VF_iter= 104 , VF_dist= 1.254692764048191\n",
      "VF_iter= 105 , VF_dist= 1.1078496066374082\n",
      "VF_iter= 106 , VF_dist= 0.9786005774758637\n",
      "VF_iter= 107 , VF_dist= 0.8647560611194469\n",
      "VF_iter= 108 , VF_dist= 0.7644109617214542\n",
      "VF_iter= 109 , VF_dist= 0.6759065926374038\n",
      "VF_iter= 110 , VF_dist= 0.5977976558002279\n",
      "VF_iter= 111 , VF_dist= 0.5288236707021847\n",
      "VF_iter= 112 , VF_dist= 0.4678842804473203\n",
      "VF_iter= 113 , VF_dist= 0.4140179261849438\n",
      "VF_iter= 114 , VF_dist= 0.36638344057185346\n",
      "VF_iter= 115 , VF_dist= 0.3242441654251469\n",
      "VF_iter= 116 , VF_dist= 0.2869542482240562\n",
      "VF_iter= 117 , VF_dist= 0.2539468166360914\n",
      "VF_iter= 118 , VF_dist= 0.22472376996162016\n",
      "VF_iter= 119 , VF_dist= 0.19884696153992176\n",
      "VF_iter= 120 , VF_dist= 0.1759305770933926\n",
      "VF_iter= 121 , VF_dist= 0.15563454103297883\n",
      "VF_iter= 122 , VF_dist= 0.13765880630866906\n",
      "VF_iter= 123 , VF_dist= 0.12173840379880899\n",
      "VF_iter= 124 , VF_dist= 0.10763914492236386\n",
      "VF_iter= 125 , VF_dist= 0.09515388625171702\n",
      "VF_iter= 126 , VF_dist= 0.08409927811560003\n",
      "VF_iter= 127 , VF_dist= 0.0743129302913289\n",
      "VF_iter= 128 , VF_dist= 0.06565093752120593\n",
      "VF_iter= 129 , VF_dist= 0.057985715806609384\n",
      "VF_iter= 130 , VF_dist= 0.051204107460074554\n",
      "VF_iter= 131 , VF_dist= 0.045205718894710575\n",
      "VF_iter= 132 , VF_dist= 0.03990146026435682\n",
      "VF_iter= 133 , VF_dist= 0.03521226044299284\n",
      "VF_iter= 134 , VF_dist= 0.0310679345732741\n",
      "VF_iter= 135 , VF_dist= 0.027406184607134114\n",
      "VF_iter= 136 , VF_dist= 0.024171715985754086\n",
      "VF_iter= 137 , VF_dist= 0.021315455936311085\n",
      "VF_iter= 138 , VF_dist= 0.018793860850493133\n",
      "VF_iter= 139 , VF_dist= 0.016568301909565562\n",
      "VF_iter= 140 , VF_dist= 0.01460451957159965\n",
      "VF_iter= 141 , VF_dist= 0.012872138779729907\n",
      "VF_iter= 142 , VF_dist= 0.011344237811408978\n",
      "VF_iter= 143 , VF_dist= 0.009996964598577391\n",
      "VF_iter= 144 , VF_dist= 0.008809195129527918\n",
      "VF_iter= 145 , VF_dist= 0.007762229211952276\n",
      "VF_iter= 146 , VF_dist= 0.006839519452486748\n",
      "VF_iter= 147 , VF_dist= 0.006026429805211854\n",
      "VF_iter= 148 , VF_dist= 0.00531002046873663\n",
      "VF_iter= 149 , VF_dist= 0.004678856283923253\n",
      "VF_iter= 150 , VF_dist= 0.004122836105624354\n",
      "VF_iter= 151 , VF_dist= 0.003633040903558516\n",
      "VF_iter= 152 , VF_dist= 0.0032015985926652684\n",
      "VF_iter= 153 , VF_dist= 0.0028215638091352957\n",
      "VF_iter= 154 , VF_dist= 0.0024868110381795596\n",
      "VF_iter= 155 , VF_dist= 0.0021919396678046783\n",
      "VF_iter= 156 , VF_dist= 0.0019321896911419206\n",
      "VF_iter= 157 , VF_dist= 0.001703366913633639\n",
      "VF_iter= 158 , VF_dist= 0.0015017766384498286\n",
      "VF_iter= 159 , VF_dist= 0.001324164910586663\n",
      "VF_iter= 160 , VF_dist= 0.0011676664942175648\n",
      "VF_iter= 161 , VF_dist= 0.0010297588441130715\n",
      "VF_iter= 162 , VF_dist= 0.0009082214079055168\n",
      "VF_iter= 163 , VF_dist= 0.0008010996660723687\n",
      "VF_iter= 164 , VF_dist= 0.0007066733779818033\n",
      "VF_iter= 165 , VF_dist= 0.0006234285595466931\n",
      "VF_iter= 166 , VF_dist= 0.00055003276785425\n",
      "VF_iter= 167 , VF_dist= 0.00048531331427559385\n",
      "VF_iter= 168 , VF_dist= 0.00042823806864641283\n",
      "VF_iter= 169 , VF_dist= 0.0003778985538945339\n",
      "VF_iter= 170 , VF_dist= 0.0003334950639250728\n",
      "VF_iter= 171 , VF_dist= 0.00029432356726283304\n",
      "VF_iter= 172 , VF_dist= 0.00025976418576917007\n",
      "VF_iter= 173 , VF_dist= 0.00022927106173263644\n",
      "VF_iter= 174 , VF_dist= 0.00020236344779414134\n",
      "VF_iter= 175 , VF_dist= 0.00017861787363303544\n",
      "VF_iter= 176 , VF_dist= 0.00015766125999653528\n",
      "VF_iter= 177 , VF_dist= 0.00013916486604274874\n",
      "VF_iter= 178 , VF_dist= 0.00012283896930668015\n",
      "VF_iter= 179 , VF_dist= 0.00010842818958795906\n",
      "VF_iter= 180 , VF_dist= 9.570737868057168e-05\n",
      "VF_iter= 181 , VF_dist= 8.447800712475107e-05\n",
      "VF_iter= 182 , VF_dist= 7.456498755203516e-05\n",
      "VF_iter= 183 , VF_dist= 6.581388148606612e-05\n",
      "VF_iter= 184 , VF_dist= 5.8088442853547145e-05\n",
      "VF_iter= 185 , VF_dist= 5.126845725391842e-05\n",
      "VF_iter= 186 , VF_dist= 4.524784088993419e-05\n",
      "VF_iter= 187 , VF_dist= 3.993296766019478e-05\n",
      "VF_iter= 188 , VF_dist= 3.524119660981524e-05\n",
      "VF_iter= 189 , VF_dist= 3.1099575407720334e-05\n",
      "VF_iter= 190 , VF_dist= 2.7443698554468395e-05\n",
      "VF_iter= 191 , VF_dist= 2.4216701525994176e-05\n"
     ]
    },
    {
     "name": "stdout",
     "output_type": "stream",
     "text": [
      "VF_iter= 192 , VF_dist= 2.1368374484286343e-05\n",
      "VF_iter= 193 , VF_dist= 1.8854381091211918e-05\n",
      "VF_iter= 194 , VF_dist= 1.6635569803058567e-05\n",
      "VF_iter= 195 , VF_dist= 1.4677366533073405e-05\n",
      "VF_iter= 196 , VF_dist= 1.2949238937691089e-05\n",
      "VF_iter= 197 , VF_dist= 1.1424223774937617e-05\n",
      "VF_iter= 198 , VF_dist= 1.0078509802845878e-05\n",
      "VF_iter= 199 , VF_dist= 8.891069623119587e-06\n",
      "VF_iter= 200 , VF_dist= 7.843334669961878e-06\n"
     ]
    }
   ],
   "source": [
    "V_init = np.zeros((W_size, eps_size))\n",
    "V_new = V_init.copy()\n",
    "\n",
    "VF_iter = 0\n",
    "VF_dist = 10\n",
    "VF_maxiter = 200\n",
    "VF_mindist = 1e-8\n",
    "\n",
    "while (VF_iter < VF_maxiter) and (VF_dist > VF_mindist):\n",
    "    VF_iter += 1\n",
    "    V_init = V_new.copy()\n",
    "    V_new = np.zeros((W_size, eps_size))\n",
    "    psi_mat = np.zeros((W_size, eps_size))\n",
    "    \n",
    "    \n",
    "\n",
    "    for eps_ind in range(eps_size):  \n",
    "        trans_mat_ind = trans_mat[eps_ind,:]\n",
    "        Exp_V = V_init@trans_mat_ind.reshape((eps_size,1))\n",
    "        Exp_V_interp = intpl.interp1d(W_vec, Exp_V.flatten(), kind='cubic',\n",
    "                                   fill_value='extrapolate')\n",
    "        for W_ind in range(W_size):\n",
    "            W = W_vec[W_ind]\n",
    "            eps = eps_vec[eps_ind]\n",
    "            V_args = (W, eps, util_CRRA, Exp_V_interp, gamma, beta)\n",
    "            results1 = opt.minimize_scalar(neg_V_iid, bounds=(1e-10, W - 1e-10),\n",
    "                                              args=V_args, method='bounded')\n",
    "            V_new[W_ind, eps_ind] = -results1.fun\n",
    "            psi_mat[W_ind, eps_ind] = results1.x\n",
    "\n",
    "    VF_dist = ((V_init - V_new) ** 2).sum()\n",
    "    print('VF_iter=', VF_iter, ', VF_dist=', VF_dist)"
   ]
  },
  {
   "cell_type": "code",
   "execution_count": 12,
   "metadata": {},
   "outputs": [
    {
     "data": {
      "text/plain": [
       "Text(0.5, 1.0, 'Equilibrium value function')"
      ]
     },
     "execution_count": 12,
     "metadata": {},
     "output_type": "execute_result"
    },
    {
     "data": {
      "image/png": "[encoded data removed]",
      "text/plain": [
       "<Figure size 432x288 with 1 Axes>"
      ]
     },
     "metadata": {
      "needs_background": "light"
     },
     "output_type": "display_data"
    }
   ],
   "source": [
    "#b\n",
    "\n",
    "#plot the equilibrium value function\n",
    "for i in range(5):\n",
    "    plt.plot(W_vec, V_new[:,i], label='$\\epsilon$_{}'.format(i+1))\n",
    "plt.xlabel('Cake size')\n",
    "plt.ylabel('Value function')\n",
    "plt.legend()\n",
    "plt.title('Equilibrium value function')"
   ]
  },
  {
   "cell_type": "code",
   "execution_count": 13,
   "metadata": {},
   "outputs": [
    {
     "data": {
      "text/plain": [
       "Text(0.5, 1.0, 'Equilibrium policy function')"
      ]
     },
     "execution_count": 13,
     "metadata": {},
     "output_type": "execute_result"
    },
    {
     "data": {
      "image/png": "[encoded data removed]",
      "text/plain": [
       "<Figure size 432x288 with 1 Axes>"
      ]
     },
     "metadata": {
      "needs_background": "light"
     },
     "output_type": "display_data"
    }
   ],
   "source": [
    "#c\n",
    "\n",
    "#plot the equilibrium policy function \n",
    "for i in range(5):\n",
    "    plt.plot(W_vec, psi_mat[:,i], label='$\\epsilon$_{}'.format(i+1))\n",
    "plt.xlabel('Cake size')\n",
    "plt.ylabel('Policy function')\n",
    "plt.legend()\n",
    "plt.title('Equilibrium policy function')"
   ]
  }
 ],
 "metadata": {
  "kernelspec": {
   "display_name": "Python 3",
   "language": "python",
   "name": "python3"
  },
  "language_info": {
   "codemirror_mode": {
    "name": "ipython",
    "version": 3
   },
   "file_extension": ".py",
   "mimetype": "text/x-python",
   "name": "python",
   "nbconvert_exporter": "python",
   "pygments_lexer": "ipython3",
   "version": "3.7.6"
  }
 },
 "nbformat": 4,
 "nbformat_minor": 4
}
